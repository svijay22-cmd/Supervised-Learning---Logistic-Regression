{
 "cells": [
  {
   "cell_type": "markdown",
   "id": "e3b88836",
   "metadata": {
    "id": "HXJ7MT8d9WJL"
   },
   "source": [
    "## Income Group Classification"
   ]
  },
  {
   "cell_type": "markdown",
   "id": "85a7235e",
   "metadata": {
    "id": "WNvGGvrD9WJS"
   },
   "source": [
    "### Dataset\n",
    "\n",
    "* age: continuous - age of a Person \n",
    "* workclass: Where does a person works - categorical -Private, Self-emp-not-inc, Self-emp-inc, Federal-gov, Local-gov, State-gov, Without-pay, Never-worked.\n",
    "* fnlwgt: continuous\n",
    "* education: Degree the person has - Bachelors, Some-college, 11th, HS-grad, Prof-school, Assoc-acdm, Assoc-voc, 9th, 7th-8th, 12th, Masters, 1st-4th, 10th, Doctorate, 5th-6th, Preschool.\n",
    "* education-num: no. of years a person studied - continuous.\n",
    "* marital-status: Married-civ-spouse, Divorced, Never-married, Separated, Widowed, Married-spouse-absent, Married-AF-spouse.\n",
    "* occupation: Tech-support, Craft-repair, Other-service, Sales, Exec-managerial, Prof-specialty, Handlers-cleaners, Machine-op-inspct, Adm-clerical, Farming-fishing, Transport-moving, Priv-house-serv, Protective-serv, Armed-Forces.\n",
    "* race: White, Asian-Pac-Islander, Amer-Indian-Eskimo, Other, Black.\n",
    "* sex: Female, Male.\n",
    "* capital-gain: Investment gain of the person other than salary - continuous\n",
    "* capital-loss: Loss from investments - continuous\n",
    "* hours-per-week: No. of hours a person works - continuous.\n",
    "* native-country: United-States, Cambodia, England, Puerto-Rico, Canada, Germany, Outlying-US(Guam-USVI-etc), India, Japan, Greece, South, China, Cuba, Iran, Honduras, Philippines, Italy, Poland, Jamaica, Vietnam, Mexico, Portugal, Ireland, France, Dominican-Republic, Laos, Ecuador, Taiwan, Haiti, Columbia, Hungary, Guatemala, Nicaragua, Scotland, Thailand, Yugoslavia, El-Salvador, Trinidad&Tobago, Peru, Hong, Holand-Netherlands.\n",
    "* salary: >50K, <=50K (dependent variable, the salary is in Dollars per year)"
   ]
  },
  {
   "cell_type": "markdown",
   "id": "cf81f2d1",
   "metadata": {
    "id": "ZzsW_RNeuNEx"
   },
   "source": [
    "### Loading Libraries"
   ]
  },
  {
   "cell_type": "code",
   "execution_count": 1,
   "id": "8446249c",
   "metadata": {},
   "outputs": [],
   "source": [
    "import pandas as pd\n",
    "import numpy as np\n",
    "\n",
    "import warnings\n",
    "\n",
    "warnings.filterwarnings(\"ignore\")\n",
    "from statsmodels.tools.sm_exceptions import ConvergenceWarning\n",
    "\n",
    "warnings.simplefilter(\"ignore\", ConvergenceWarning)\n",
    "\n",
    "from sklearn.model_selection import train_test_split\n",
    "\n",
    "import matplotlib.pyplot as plt\n",
    "import seaborn as sns\n",
    "\n",
    "# Removes the limit for the number of displayed columns\n",
    "pd.set_option(\"display.max_columns\", None)\n",
    "# Sets the limit for the number of displayed rows\n",
    "pd.set_option(\"display.max_rows\", 200)\n",
    "\n",
    "\n",
    "# To build model for prediction\n",
    "from sklearn.linear_model import LogisticRegression\n",
    "\n",
    "# To get diferent metric scores\n",
    "from sklearn import metrics\n",
    "from sklearn.metrics import (\n",
    "    f1_score,\n",
    "    accuracy_score,\n",
    "    recall_score,\n",
    "    precision_score,\n",
    "    confusion_matrix,\n",
    "    roc_auc_score,\n",
    "    plot_confusion_matrix,\n",
    "    precision_recall_curve,\n",
    "    roc_curve,\n",
    ")"
   ]
  },
  {
   "cell_type": "markdown",
   "id": "5bc7fdbb",
   "metadata": {
    "id": "sAccTEIqj9VV"
   },
   "source": [
    "### Load data"
   ]
  },
  {
   "cell_type": "code",
   "execution_count": 2,
   "id": "05bdef45",
   "metadata": {
    "id": "STzpWgWu9WJZ"
   },
   "outputs": [],
   "source": [
    "data = pd.read_csv(\"adult_census_data.csv\")"
   ]
  },
  {
   "cell_type": "code",
   "execution_count": 3,
   "id": "213679bc",
   "metadata": {
    "colab": {
     "base_uri": "https://localhost:8080/",
     "height": 306
    },
    "id": "frKZJfik9WJc",
    "outputId": "80196792-f0f7-4482-d9be-ba731e441e23"
   },
   "outputs": [
    {
     "data": {
      "text/html": [
       "<div>\n",
       "<style scoped>\n",
       "    .dataframe tbody tr th:only-of-type {\n",
       "        vertical-align: middle;\n",
       "    }\n",
       "\n",
       "    .dataframe tbody tr th {\n",
       "        vertical-align: top;\n",
       "    }\n",
       "\n",
       "    .dataframe thead th {\n",
       "        text-align: right;\n",
       "    }\n",
       "</style>\n",
       "<table border=\"1\" class=\"dataframe\">\n",
       "  <thead>\n",
       "    <tr style=\"text-align: right;\">\n",
       "      <th></th>\n",
       "      <th>age</th>\n",
       "      <th>workclass</th>\n",
       "      <th>fnlwgt</th>\n",
       "      <th>education</th>\n",
       "      <th>education-no. of years</th>\n",
       "      <th>marital status</th>\n",
       "      <th>occupation</th>\n",
       "      <th>race</th>\n",
       "      <th>sex</th>\n",
       "      <th>capital gain</th>\n",
       "      <th>capital loss</th>\n",
       "      <th>working hours per week</th>\n",
       "      <th>native-country</th>\n",
       "      <th>salary</th>\n",
       "    </tr>\n",
       "  </thead>\n",
       "  <tbody>\n",
       "    <tr>\n",
       "      <th>0</th>\n",
       "      <td>39</td>\n",
       "      <td>State-gov</td>\n",
       "      <td>77516</td>\n",
       "      <td>Bachelors</td>\n",
       "      <td>13</td>\n",
       "      <td>Never-married</td>\n",
       "      <td>Adm-clerical</td>\n",
       "      <td>White</td>\n",
       "      <td>Male</td>\n",
       "      <td>2174</td>\n",
       "      <td>0</td>\n",
       "      <td>40</td>\n",
       "      <td>United-States</td>\n",
       "      <td>&lt;=50K</td>\n",
       "    </tr>\n",
       "    <tr>\n",
       "      <th>1</th>\n",
       "      <td>50</td>\n",
       "      <td>Self-emp-not-inc</td>\n",
       "      <td>83311</td>\n",
       "      <td>Bachelors</td>\n",
       "      <td>13</td>\n",
       "      <td>Married-civ-spouse</td>\n",
       "      <td>Exec-managerial</td>\n",
       "      <td>White</td>\n",
       "      <td>Male</td>\n",
       "      <td>0</td>\n",
       "      <td>0</td>\n",
       "      <td>13</td>\n",
       "      <td>United-States</td>\n",
       "      <td>&lt;=50K</td>\n",
       "    </tr>\n",
       "    <tr>\n",
       "      <th>2</th>\n",
       "      <td>38</td>\n",
       "      <td>Private</td>\n",
       "      <td>215646</td>\n",
       "      <td>HS-grad</td>\n",
       "      <td>9</td>\n",
       "      <td>Divorced</td>\n",
       "      <td>Handlers-cleaners</td>\n",
       "      <td>White</td>\n",
       "      <td>Male</td>\n",
       "      <td>0</td>\n",
       "      <td>0</td>\n",
       "      <td>40</td>\n",
       "      <td>United-States</td>\n",
       "      <td>&lt;=50K</td>\n",
       "    </tr>\n",
       "    <tr>\n",
       "      <th>3</th>\n",
       "      <td>53</td>\n",
       "      <td>Private</td>\n",
       "      <td>234721</td>\n",
       "      <td>11th</td>\n",
       "      <td>7</td>\n",
       "      <td>Married-civ-spouse</td>\n",
       "      <td>Handlers-cleaners</td>\n",
       "      <td>Black</td>\n",
       "      <td>Male</td>\n",
       "      <td>0</td>\n",
       "      <td>0</td>\n",
       "      <td>40</td>\n",
       "      <td>United-States</td>\n",
       "      <td>&lt;=50K</td>\n",
       "    </tr>\n",
       "    <tr>\n",
       "      <th>4</th>\n",
       "      <td>28</td>\n",
       "      <td>Private</td>\n",
       "      <td>338409</td>\n",
       "      <td>Bachelors</td>\n",
       "      <td>13</td>\n",
       "      <td>Married-civ-spouse</td>\n",
       "      <td>Prof-specialty</td>\n",
       "      <td>Black</td>\n",
       "      <td>Female</td>\n",
       "      <td>0</td>\n",
       "      <td>0</td>\n",
       "      <td>40</td>\n",
       "      <td>Cuba</td>\n",
       "      <td>&lt;=50K</td>\n",
       "    </tr>\n",
       "  </tbody>\n",
       "</table>\n",
       "</div>"
      ],
      "text/plain": [
       "   age          workclass  fnlwgt   education  education-no. of years  \\\n",
       "0   39          State-gov   77516   Bachelors                      13   \n",
       "1   50   Self-emp-not-inc   83311   Bachelors                      13   \n",
       "2   38            Private  215646     HS-grad                       9   \n",
       "3   53            Private  234721        11th                       7   \n",
       "4   28            Private  338409   Bachelors                      13   \n",
       "\n",
       "        marital status          occupation    race      sex  capital gain  \\\n",
       "0        Never-married        Adm-clerical   White     Male          2174   \n",
       "1   Married-civ-spouse     Exec-managerial   White     Male             0   \n",
       "2             Divorced   Handlers-cleaners   White     Male             0   \n",
       "3   Married-civ-spouse   Handlers-cleaners   Black     Male             0   \n",
       "4   Married-civ-spouse      Prof-specialty   Black   Female             0   \n",
       "\n",
       "   capital loss  working hours per week  native-country  salary  \n",
       "0             0                      40   United-States   <=50K  \n",
       "1             0                      13   United-States   <=50K  \n",
       "2             0                      40   United-States   <=50K  \n",
       "3             0                      40   United-States   <=50K  \n",
       "4             0                      40            Cuba   <=50K  "
      ]
     },
     "execution_count": 3,
     "metadata": {},
     "output_type": "execute_result"
    }
   ],
   "source": [
    "data.head()"
   ]
  },
  {
   "cell_type": "code",
   "execution_count": 4,
   "id": "92b5b81a",
   "metadata": {},
   "outputs": [
    {
     "data": {
      "text/html": [
       "<div>\n",
       "<style scoped>\n",
       "    .dataframe tbody tr th:only-of-type {\n",
       "        vertical-align: middle;\n",
       "    }\n",
       "\n",
       "    .dataframe tbody tr th {\n",
       "        vertical-align: top;\n",
       "    }\n",
       "\n",
       "    .dataframe thead th {\n",
       "        text-align: right;\n",
       "    }\n",
       "</style>\n",
       "<table border=\"1\" class=\"dataframe\">\n",
       "  <thead>\n",
       "    <tr style=\"text-align: right;\">\n",
       "      <th></th>\n",
       "      <th>age</th>\n",
       "      <th>workclass</th>\n",
       "      <th>fnlwgt</th>\n",
       "      <th>education</th>\n",
       "      <th>education-no. of years</th>\n",
       "      <th>marital status</th>\n",
       "      <th>occupation</th>\n",
       "      <th>race</th>\n",
       "      <th>sex</th>\n",
       "      <th>capital gain</th>\n",
       "      <th>capital loss</th>\n",
       "      <th>working hours per week</th>\n",
       "      <th>native-country</th>\n",
       "      <th>salary</th>\n",
       "    </tr>\n",
       "  </thead>\n",
       "  <tbody>\n",
       "    <tr>\n",
       "      <th>32556</th>\n",
       "      <td>27</td>\n",
       "      <td>Private</td>\n",
       "      <td>257302</td>\n",
       "      <td>Assoc-acdm</td>\n",
       "      <td>12</td>\n",
       "      <td>Married-civ-spouse</td>\n",
       "      <td>Tech-support</td>\n",
       "      <td>White</td>\n",
       "      <td>Female</td>\n",
       "      <td>0</td>\n",
       "      <td>0</td>\n",
       "      <td>38</td>\n",
       "      <td>United-States</td>\n",
       "      <td>&lt;=50K</td>\n",
       "    </tr>\n",
       "    <tr>\n",
       "      <th>32557</th>\n",
       "      <td>40</td>\n",
       "      <td>Private</td>\n",
       "      <td>154374</td>\n",
       "      <td>HS-grad</td>\n",
       "      <td>9</td>\n",
       "      <td>Married-civ-spouse</td>\n",
       "      <td>Machine-op-inspct</td>\n",
       "      <td>White</td>\n",
       "      <td>Male</td>\n",
       "      <td>0</td>\n",
       "      <td>0</td>\n",
       "      <td>40</td>\n",
       "      <td>United-States</td>\n",
       "      <td>&gt;50K</td>\n",
       "    </tr>\n",
       "    <tr>\n",
       "      <th>32558</th>\n",
       "      <td>58</td>\n",
       "      <td>Private</td>\n",
       "      <td>151910</td>\n",
       "      <td>HS-grad</td>\n",
       "      <td>9</td>\n",
       "      <td>Widowed</td>\n",
       "      <td>Adm-clerical</td>\n",
       "      <td>White</td>\n",
       "      <td>Female</td>\n",
       "      <td>0</td>\n",
       "      <td>0</td>\n",
       "      <td>40</td>\n",
       "      <td>United-States</td>\n",
       "      <td>&lt;=50K</td>\n",
       "    </tr>\n",
       "    <tr>\n",
       "      <th>32559</th>\n",
       "      <td>22</td>\n",
       "      <td>Private</td>\n",
       "      <td>201490</td>\n",
       "      <td>HS-grad</td>\n",
       "      <td>9</td>\n",
       "      <td>Never-married</td>\n",
       "      <td>Adm-clerical</td>\n",
       "      <td>White</td>\n",
       "      <td>Male</td>\n",
       "      <td>0</td>\n",
       "      <td>0</td>\n",
       "      <td>20</td>\n",
       "      <td>United-States</td>\n",
       "      <td>&lt;=50K</td>\n",
       "    </tr>\n",
       "    <tr>\n",
       "      <th>32560</th>\n",
       "      <td>52</td>\n",
       "      <td>Self-emp-inc</td>\n",
       "      <td>287927</td>\n",
       "      <td>HS-grad</td>\n",
       "      <td>9</td>\n",
       "      <td>Married-civ-spouse</td>\n",
       "      <td>Exec-managerial</td>\n",
       "      <td>White</td>\n",
       "      <td>Female</td>\n",
       "      <td>15024</td>\n",
       "      <td>0</td>\n",
       "      <td>40</td>\n",
       "      <td>United-States</td>\n",
       "      <td>&gt;50K</td>\n",
       "    </tr>\n",
       "  </tbody>\n",
       "</table>\n",
       "</div>"
      ],
      "text/plain": [
       "       age      workclass  fnlwgt    education  education-no. of years  \\\n",
       "32556   27        Private  257302   Assoc-acdm                      12   \n",
       "32557   40        Private  154374      HS-grad                       9   \n",
       "32558   58        Private  151910      HS-grad                       9   \n",
       "32559   22        Private  201490      HS-grad                       9   \n",
       "32560   52   Self-emp-inc  287927      HS-grad                       9   \n",
       "\n",
       "            marital status          occupation    race      sex  capital gain  \\\n",
       "32556   Married-civ-spouse        Tech-support   White   Female             0   \n",
       "32557   Married-civ-spouse   Machine-op-inspct   White     Male             0   \n",
       "32558              Widowed        Adm-clerical   White   Female             0   \n",
       "32559        Never-married        Adm-clerical   White     Male             0   \n",
       "32560   Married-civ-spouse     Exec-managerial   White   Female         15024   \n",
       "\n",
       "       capital loss  working hours per week  native-country  salary  \n",
       "32556             0                      38   United-States   <=50K  \n",
       "32557             0                      40   United-States    >50K  \n",
       "32558             0                      40   United-States   <=50K  \n",
       "32559             0                      20   United-States   <=50K  \n",
       "32560             0                      40   United-States    >50K  "
      ]
     },
     "execution_count": 4,
     "metadata": {},
     "output_type": "execute_result"
    }
   ],
   "source": [
    "data.tail()"
   ]
  },
  {
   "cell_type": "code",
   "execution_count": 5,
   "id": "81d9a40a",
   "metadata": {},
   "outputs": [
    {
     "data": {
      "text/plain": [
       "(32561, 14)"
      ]
     },
     "execution_count": 5,
     "metadata": {},
     "output_type": "execute_result"
    }
   ],
   "source": [
    "data.shape"
   ]
  },
  {
   "cell_type": "code",
   "execution_count": 6,
   "id": "5edc473c",
   "metadata": {
    "colab": {
     "base_uri": "https://localhost:8080/"
    },
    "id": "UXqzxZrw9WJg",
    "outputId": "4d1e0b70-4911-4e63-d263-6168fa386b65"
   },
   "outputs": [
    {
     "name": "stdout",
     "output_type": "stream",
     "text": [
      "<class 'pandas.core.frame.DataFrame'>\n",
      "RangeIndex: 32561 entries, 0 to 32560\n",
      "Data columns (total 14 columns):\n",
      " #   Column                  Non-Null Count  Dtype \n",
      "---  ------                  --------------  ----- \n",
      " 0   age                     32561 non-null  int64 \n",
      " 1   workclass               32561 non-null  object\n",
      " 2   fnlwgt                  32561 non-null  int64 \n",
      " 3   education               32561 non-null  object\n",
      " 4   education-no. of years  32561 non-null  int64 \n",
      " 5   marital status          32561 non-null  object\n",
      " 6   occupation              32561 non-null  object\n",
      " 7   race                    32561 non-null  object\n",
      " 8   sex                     32561 non-null  object\n",
      " 9   capital gain            32561 non-null  int64 \n",
      " 10  capital loss            32561 non-null  int64 \n",
      " 11  working hours per week  32561 non-null  int64 \n",
      " 12  native-country          32561 non-null  object\n",
      " 13  salary                  32561 non-null  object\n",
      "dtypes: int64(6), object(8)\n",
      "memory usage: 3.5+ MB\n"
     ]
    }
   ],
   "source": [
    "data.info()"
   ]
  },
  {
   "cell_type": "code",
   "execution_count": 7,
   "id": "12df66a7",
   "metadata": {
    "id": "BMXZrEVsuZcc"
   },
   "outputs": [],
   "source": [
    "# fixing the names of columns as there are dots, spaces  in columns names\n",
    "data.columns = [col.replace(\" \", \"_\") for col in data.columns]\n",
    "data.columns = [col.replace(\"-\", \"_\") for col in data.columns]\n",
    "data.columns = [col.replace(\".\", \"\") for col in data.columns]"
   ]
  },
  {
   "cell_type": "code",
   "execution_count": 8,
   "id": "1c5384cd",
   "metadata": {
    "colab": {
     "base_uri": "https://localhost:8080/"
    },
    "id": "3BUEfwoqudEU",
    "outputId": "4f861321-21f4-4fac-f144-1a3486e49f1f"
   },
   "outputs": [
    {
     "name": "stdout",
     "output_type": "stream",
     "text": [
      "Index(['age', 'workclass', 'fnlwgt', 'education', 'education_no_of_years',\n",
      "       'marital_status', 'occupation', 'race', 'sex', 'capital_gain',\n",
      "       'capital_loss', 'working_hours_per_week', 'native_country', 'salary'],\n",
      "      dtype='object')\n"
     ]
    }
   ],
   "source": [
    "print(data.columns)"
   ]
  },
  {
   "cell_type": "code",
   "execution_count": 9,
   "id": "1a735455",
   "metadata": {
    "colab": {
     "base_uri": "https://localhost:8080/",
     "height": 427
    },
    "id": "zWfoZeXv9WJm",
    "outputId": "a775bf9f-9a96-476d-889d-1ae4c5c616fe"
   },
   "outputs": [
    {
     "data": {
      "text/html": [
       "<div>\n",
       "<style scoped>\n",
       "    .dataframe tbody tr th:only-of-type {\n",
       "        vertical-align: middle;\n",
       "    }\n",
       "\n",
       "    .dataframe tbody tr th {\n",
       "        vertical-align: top;\n",
       "    }\n",
       "\n",
       "    .dataframe thead th {\n",
       "        text-align: right;\n",
       "    }\n",
       "</style>\n",
       "<table border=\"1\" class=\"dataframe\">\n",
       "  <thead>\n",
       "    <tr style=\"text-align: right;\">\n",
       "      <th></th>\n",
       "      <th>count</th>\n",
       "      <th>mean</th>\n",
       "      <th>std</th>\n",
       "      <th>min</th>\n",
       "      <th>25%</th>\n",
       "      <th>50%</th>\n",
       "      <th>75%</th>\n",
       "      <th>max</th>\n",
       "    </tr>\n",
       "  </thead>\n",
       "  <tbody>\n",
       "    <tr>\n",
       "      <th>age</th>\n",
       "      <td>32561.0</td>\n",
       "      <td>38.581647</td>\n",
       "      <td>13.640433</td>\n",
       "      <td>17.0</td>\n",
       "      <td>28.0</td>\n",
       "      <td>37.0</td>\n",
       "      <td>48.0</td>\n",
       "      <td>90.0</td>\n",
       "    </tr>\n",
       "    <tr>\n",
       "      <th>fnlwgt</th>\n",
       "      <td>32561.0</td>\n",
       "      <td>189778.366512</td>\n",
       "      <td>105549.977697</td>\n",
       "      <td>12285.0</td>\n",
       "      <td>117827.0</td>\n",
       "      <td>178356.0</td>\n",
       "      <td>237051.0</td>\n",
       "      <td>1484705.0</td>\n",
       "    </tr>\n",
       "    <tr>\n",
       "      <th>education_no_of_years</th>\n",
       "      <td>32561.0</td>\n",
       "      <td>10.080679</td>\n",
       "      <td>2.572720</td>\n",
       "      <td>1.0</td>\n",
       "      <td>9.0</td>\n",
       "      <td>10.0</td>\n",
       "      <td>12.0</td>\n",
       "      <td>16.0</td>\n",
       "    </tr>\n",
       "    <tr>\n",
       "      <th>capital_gain</th>\n",
       "      <td>32561.0</td>\n",
       "      <td>1077.648844</td>\n",
       "      <td>7385.292085</td>\n",
       "      <td>0.0</td>\n",
       "      <td>0.0</td>\n",
       "      <td>0.0</td>\n",
       "      <td>0.0</td>\n",
       "      <td>99999.0</td>\n",
       "    </tr>\n",
       "    <tr>\n",
       "      <th>capital_loss</th>\n",
       "      <td>32561.0</td>\n",
       "      <td>87.303830</td>\n",
       "      <td>402.960219</td>\n",
       "      <td>0.0</td>\n",
       "      <td>0.0</td>\n",
       "      <td>0.0</td>\n",
       "      <td>0.0</td>\n",
       "      <td>4356.0</td>\n",
       "    </tr>\n",
       "    <tr>\n",
       "      <th>working_hours_per_week</th>\n",
       "      <td>32561.0</td>\n",
       "      <td>40.437456</td>\n",
       "      <td>12.347429</td>\n",
       "      <td>1.0</td>\n",
       "      <td>40.0</td>\n",
       "      <td>40.0</td>\n",
       "      <td>45.0</td>\n",
       "      <td>99.0</td>\n",
       "    </tr>\n",
       "  </tbody>\n",
       "</table>\n",
       "</div>"
      ],
      "text/plain": [
       "                          count           mean            std      min  \\\n",
       "age                     32561.0      38.581647      13.640433     17.0   \n",
       "fnlwgt                  32561.0  189778.366512  105549.977697  12285.0   \n",
       "education_no_of_years   32561.0      10.080679       2.572720      1.0   \n",
       "capital_gain            32561.0    1077.648844    7385.292085      0.0   \n",
       "capital_loss            32561.0      87.303830     402.960219      0.0   \n",
       "working_hours_per_week  32561.0      40.437456      12.347429      1.0   \n",
       "\n",
       "                             25%       50%       75%        max  \n",
       "age                         28.0      37.0      48.0       90.0  \n",
       "fnlwgt                  117827.0  178356.0  237051.0  1484705.0  \n",
       "education_no_of_years        9.0      10.0      12.0       16.0  \n",
       "capital_gain                 0.0       0.0       0.0    99999.0  \n",
       "capital_loss                 0.0       0.0       0.0     4356.0  \n",
       "working_hours_per_week      40.0      40.0      45.0       99.0  "
      ]
     },
     "execution_count": 9,
     "metadata": {},
     "output_type": "execute_result"
    }
   ],
   "source": [
    "data.describe().T"
   ]
  },
  {
   "cell_type": "code",
   "execution_count": 10,
   "id": "9be7833c",
   "metadata": {},
   "outputs": [
    {
     "data": {
      "text/plain": [
       "Index(['workclass', 'education', 'marital_status', 'occupation', 'race', 'sex',\n",
       "       'native_country', 'salary'],\n",
       "      dtype='object')"
      ]
     },
     "execution_count": 10,
     "metadata": {},
     "output_type": "execute_result"
    }
   ],
   "source": [
    "# filtering object type columns\n",
    "cat_columns = data.describe(include=[\"object\"]).columns\n",
    "cat_columns"
   ]
  },
  {
   "cell_type": "code",
   "execution_count": 11,
   "id": "d9db8f04",
   "metadata": {},
   "outputs": [
    {
     "data": {
      "text/plain": [
       " Private             22696\n",
       " Self-emp-not-inc     2541\n",
       " Local-gov            2093\n",
       " ?                    1836\n",
       " State-gov            1298\n",
       " Self-emp-inc         1116\n",
       " Federal-gov           960\n",
       " Without-pay            14\n",
       " Never-worked            7\n",
       "Name: workclass, dtype: int64"
      ]
     },
     "execution_count": 11,
     "metadata": {},
     "output_type": "execute_result"
    }
   ],
   "source": [
    "data[\"workclass\"].value_counts()"
   ]
  },
  {
   "cell_type": "code",
   "execution_count": 12,
   "id": "4b2c7fcc",
   "metadata": {
    "id": "d-SZuewJ9WJ-"
   },
   "outputs": [],
   "source": [
    "# replace ? with 'Unknown'\n",
    "data.workclass = data.workclass.apply(lambda x: \"Unknown\" if x == \" ?\" else x)\n",
    "data.native_country = data.native_country.apply(lambda x: \"Unknown\" if x == \" ?\" else x)\n",
    "data.occupation = data.occupation.apply(lambda x: \"Unknown\" if x == \" ?\" else x)"
   ]
  },
  {
   "cell_type": "code",
   "execution_count": 13,
   "id": "eea6395d",
   "metadata": {},
   "outputs": [
    {
     "data": {
      "text/plain": [
       "42"
      ]
     },
     "execution_count": 13,
     "metadata": {},
     "output_type": "execute_result"
    }
   ],
   "source": [
    "# unique number of countries\n",
    "data.native_country.nunique()"
   ]
  },
  {
   "cell_type": "code",
   "execution_count": 14,
   "id": "cd95a5ca",
   "metadata": {
    "id": "JWuabviJ9WKD"
   },
   "outputs": [],
   "source": [
    "data.native_country = data.native_country.str.replace(\" \", \"\")"
   ]
  },
  {
   "cell_type": "code",
   "execution_count": 15,
   "id": "9ac56500",
   "metadata": {
    "id": "RaVHYsJd9WKF"
   },
   "outputs": [],
   "source": [
    "north_america = [\n",
    "    \"Canada\",\n",
    "    \"Cuba\",\n",
    "    \"Dominican-Republic\",\n",
    "    \"El-Salvador\",\n",
    "    \"Guatemala\",\n",
    "    \"Haiti\",\n",
    "    \"Honduras\",\n",
    "    \"Jamaica\",\n",
    "    \"Mexico\",\n",
    "    \"Nicaragua\",\n",
    "    \"Outlying-US(Guam-USVI-etc)\",\n",
    "    \"Puerto-Rico\",\n",
    "    \"Trinadad&Tobago\",\n",
    "    \"United-States\",\n",
    "]\n",
    "asia = [\n",
    "    \"Cambodia\",\n",
    "    \"China\",\n",
    "    \"Hong\",\n",
    "    \"India\",\n",
    "    \"Iran\",\n",
    "    \"Japan\",\n",
    "    \"Laos\",\n",
    "    \"Philippines\",\n",
    "    \"Taiwan\",\n",
    "    \"Thailand\",\n",
    "    \"Vietnam\",\n",
    "]\n",
    "south_america = [\"Columbia\", \"Ecuador\", \"Peru\"]\n",
    "europe = [\n",
    "    \"England\",\n",
    "    \"France\",\n",
    "    \"Germany\",\n",
    "    \"Greece\",\n",
    "    \"Holand-Netherlands\",\n",
    "    \"Hungary\",\n",
    "    \"Ireland\",\n",
    "    \"Italy\",\n",
    "    \"Poland\",\n",
    "    \"Portugal\",\n",
    "    \"Scotland\",\n",
    "    \"Yugoslavia\",\n",
    "]\n",
    "other = [\"South\", \"Unknown\", \"?\"]"
   ]
  },
  {
   "cell_type": "code",
   "execution_count": 16,
   "id": "49a165c2",
   "metadata": {
    "id": "ICxgTn2t9WKH"
   },
   "outputs": [],
   "source": [
    "def region_combining(x):\n",
    "    if x in north_america:\n",
    "        return \"north_america\"\n",
    "    elif x in asia:\n",
    "        return \"asia\"\n",
    "    elif x in south_america:\n",
    "        return \"south_america\"\n",
    "    elif x in europe:\n",
    "        return \"europe\"\n",
    "    elif x in other:\n",
    "        return \"other\"\n",
    "    else:\n",
    "        return x"
   ]
  },
  {
   "cell_type": "code",
   "execution_count": 17,
   "id": "82b27cae",
   "metadata": {
    "id": "NnJUQlYm9WKM"
   },
   "outputs": [],
   "source": [
    "data[\"native_country\"] = data[\"native_country\"].apply(region_combining)"
   ]
  },
  {
   "cell_type": "code",
   "execution_count": 18,
   "id": "d73e7d2a",
   "metadata": {},
   "outputs": [
    {
     "name": "stdout",
     "output_type": "stream",
     "text": [
      "Distinct values in Native Country column: 5\n"
     ]
    }
   ],
   "source": [
    "print(\"Distinct values in Native Country column:\", data.native_country.nunique())"
   ]
  },
  {
   "cell_type": "code",
   "execution_count": 19,
   "id": "983b2791",
   "metadata": {},
   "outputs": [
    {
     "data": {
      "text/plain": [
       "array([' Never-married', ' Married-civ-spouse', ' Divorced',\n",
       "       ' Married-spouse-absent', ' Separated', ' Married-AF-spouse',\n",
       "       ' Widowed'], dtype=object)"
      ]
     },
     "execution_count": 19,
     "metadata": {},
     "output_type": "execute_result"
    }
   ],
   "source": [
    "data.marital_status.unique()"
   ]
  },
  {
   "cell_type": "markdown",
   "id": "c78323d5",
   "metadata": {},
   "source": [
    "We can reduce these values into the following groups:\n",
    "* Married\n",
    "* Not-Married\n",
    "* Never-Married"
   ]
  },
  {
   "cell_type": "code",
   "execution_count": 20,
   "id": "8c14d683",
   "metadata": {
    "id": "8dnUp7zb9WKO"
   },
   "outputs": [],
   "source": [
    "data.marital_status = data.marital_status.str.replace(\" \", \"\")\n",
    "\n",
    "married = [\"Married-civ-spouse\", \"Married-AF-spouse\"]\n",
    "not_married = [\"Divorced\", \"Separated\", \"Widowed\", \"Married-spouse-absent\"]\n",
    "\n",
    "\n",
    "def reduce_marital_status(x):\n",
    "    if x in married:\n",
    "        return \"married\"\n",
    "    elif x in not_married:\n",
    "        return \"not_married\"\n",
    "    else:\n",
    "        return x"
   ]
  },
  {
   "cell_type": "code",
   "execution_count": 21,
   "id": "01ce086b",
   "metadata": {
    "id": "gYG1pieB9WKP"
   },
   "outputs": [],
   "source": [
    "data.marital_status = data.marital_status.apply(reduce_marital_status)"
   ]
  },
  {
   "cell_type": "code",
   "execution_count": 22,
   "id": "439c8710",
   "metadata": {
    "colab": {
     "base_uri": "https://localhost:8080/"
    },
    "id": "NDdrqItt9WKS",
    "outputId": "f760d042-5202-402a-9829-c07061fc6b9c"
   },
   "outputs": [
    {
     "data": {
      "text/plain": [
       "array(['Never-married', 'married', 'not_married'], dtype=object)"
      ]
     },
     "execution_count": 22,
     "metadata": {},
     "output_type": "execute_result"
    }
   ],
   "source": [
    "data.marital_status.unique()"
   ]
  },
  {
   "cell_type": "markdown",
   "id": "af07fcbb",
   "metadata": {
    "id": "L7Drz5w_9WKV"
   },
   "source": [
    "## Univariate Analysis"
   ]
  },
  {
   "cell_type": "markdown",
   "id": "9159c38f",
   "metadata": {
    "id": "dsoZ6CBQ9WKm"
   },
   "source": [
    "### Observations on hours_per_week"
   ]
  },
  {
   "cell_type": "code",
   "execution_count": 23,
   "id": "515e79d7",
   "metadata": {
    "colab": {
     "base_uri": "https://localhost:8080/",
     "height": 633
    },
    "id": "PhStxB749WKm",
    "outputId": "7d990ab7-0a70-45a4-e151-3d36d3db45ca"
   },
   "outputs": [
    {
     "data": {
      "image/png": "[encoded data removed]",
      "text/plain": [
       "<Figure size 1152x432 with 2 Axes>"
      ]
     },
     "metadata": {
      "needs_background": "light"
     },
     "output_type": "display_data"
    }
   ],
   "source": [
    "col = \"working_hours_per_week\"\n",
    "plt.figure(figsize=(16, 6))\n",
    "plt.subplot(2, 1, 1)\n",
    "plt.title(\"----------   \" + col + \"   ----------\")\n",
    "sns.boxplot(data=data, x=col, showmeans=True, color=\"violet\")\n",
    "plt.subplot(2, 1, 2)\n",
    "sns.histplot(data=data, x=col)\n",
    "plt.axvline(data[col].mean(), color=\"red\", linestyle=\"-\")\n",
    "plt.axvline(data[col].median(), color=\"green\", linestyle=\"--\")\n",
    "plt.show()"
   ]
  },
  {
   "cell_type": "code",
   "execution_count": 24,
   "id": "d89c379d",
   "metadata": {},
   "outputs": [
    {
     "data": {
      "image/png": "[encoded data removed]",
      "text/plain": [
       "<Figure size 1152x432 with 1 Axes>"
      ]
     },
     "metadata": {
      "needs_background": "light"
     },
     "output_type": "display_data"
    }
   ],
   "source": [
    "plt.figure(figsize=(16, 6))\n",
    "sns.countplot(data=data, x=\"workclass\")\n",
    "plt.show()"
   ]
  },
  {
   "cell_type": "code",
   "execution_count": 25,
   "id": "eb63d305",
   "metadata": {},
   "outputs": [
    {
     "data": {
      "image/png": "[encoded data removed]",
      "text/plain": [
       "<Figure size 432x288 with 1 Axes>"
      ]
     },
     "metadata": {
      "needs_background": "light"
     },
     "output_type": "display_data"
    }
   ],
   "source": [
    "sns.countplot(data=data, x=\"marital_status\")\n",
    "plt.show()"
   ]
  },
  {
   "cell_type": "code",
   "execution_count": 26,
   "id": "0b2f1baa",
   "metadata": {},
   "outputs": [
    {
     "data": {
      "image/png": "[encoded data removed]",
      "text/plain": [
       "<Figure size 432x288 with 1 Axes>"
      ]
     },
     "metadata": {
      "needs_background": "light"
     },
     "output_type": "display_data"
    }
   ],
   "source": [
    "sns.countplot(data=data, x=\"native_country\")\n",
    "plt.show()"
   ]
  },
  {
   "cell_type": "markdown",
   "id": "5715688b",
   "metadata": {
    "id": "O7aOYV_y9WKp"
   },
   "source": [
    "### Observations on salary"
   ]
  },
  {
   "cell_type": "code",
   "execution_count": 27,
   "id": "f4a4e2c8",
   "metadata": {},
   "outputs": [
    {
     "data": {
      "image/png": "[encoded data removed]",
      "text/plain": [
       "<Figure size 432x288 with 1 Axes>"
      ]
     },
     "metadata": {
      "needs_background": "light"
     },
     "output_type": "display_data"
    }
   ],
   "source": [
    "sns.countplot(data=data, x=\"salary\")\n",
    "plt.show()"
   ]
  },
  {
   "cell_type": "markdown",
   "id": "af13abfa",
   "metadata": {
    "id": "3jS63iRW9WKs"
   },
   "source": [
    "## Bivariate analysis"
   ]
  },
  {
   "cell_type": "code",
   "execution_count": 28,
   "id": "ad474eab",
   "metadata": {},
   "outputs": [
    {
     "data": {
      "image/png": "[encoded data removed]",
      "text/plain": [
       "<Figure size 1080x504 with 2 Axes>"
      ]
     },
     "metadata": {
      "needs_background": "light"
     },
     "output_type": "display_data"
    }
   ],
   "source": [
    "plt.figure(figsize=(15, 7))\n",
    "sns.heatmap(data.corr(), annot=True, vmin=-1, vmax=1, fmt=\".2f\", cmap=\"Spectral\")\n",
    "plt.show()"
   ]
  },
  {
   "cell_type": "code",
   "execution_count": 29,
   "id": "291a8073",
   "metadata": {},
   "outputs": [],
   "source": [
    "### Function to plot stacked bar charts for categorical columns\n",
    "def stacked_plot(x):\n",
    "    sns.set()\n",
    "    ## crosstab\n",
    "    tab1 = pd.crosstab(x, data[\"salary\"], margins=True).sort_values(\n",
    "        by=\" >50K\", ascending=False\n",
    "    )\n",
    "    print(tab1)\n",
    "    print(\"-\" * 120)\n",
    "    ## visualising the cross tab\n",
    "    tab = pd.crosstab(x, data[\"salary\"], normalize=\"index\").sort_values(\n",
    "        by=\" >50K\", ascending=False\n",
    "    )\n",
    "    tab.plot(kind=\"bar\", stacked=True, figsize=(17, 7))\n",
    "    plt.legend(\n",
    "        loc=\"lower left\",\n",
    "        frameon=False,\n",
    "    )\n",
    "    plt.legend(loc=\"upper left\", bbox_to_anchor=(1, 1))\n",
    "    plt.show()"
   ]
  },
  {
   "cell_type": "code",
   "execution_count": 30,
   "id": "9ca5c68e",
   "metadata": {},
   "outputs": [],
   "source": [
    "def stacked_barplot(data, predictor, target):\n",
    "    \"\"\"\n",
    "    Print the category counts and plot a stacked bar chart\n",
    "\n",
    "    data: dataframe\n",
    "    predictor: independent variable\n",
    "    target: target variable\n",
    "    \"\"\"\n",
    "    count = data[predictor].nunique()\n",
    "    sorter = data[target].value_counts().index[-1]\n",
    "    tab = pd.crosstab(data[predictor], data[target], normalize=\"index\").sort_values(\n",
    "        by=sorter, ascending=False\n",
    "    )\n",
    "    tab.plot(kind=\"bar\", stacked=True, figsize=(count + 5, 5))\n",
    "    plt.legend(\n",
    "        loc=\"lower left\",\n",
    "        frameon=False,\n",
    "    )\n",
    "    plt.legend(loc=\"upper left\", bbox_to_anchor=(1, 1))\n",
    "    plt.show()"
   ]
  },
  {
   "cell_type": "code",
   "execution_count": 31,
   "id": "42341034",
   "metadata": {},
   "outputs": [
    {
     "data": {
      "image/png": "[encoded data removed]",
      "text/plain": [
       "<Figure size 504x360 with 1 Axes>"
      ]
     },
     "metadata": {
      "needs_background": "light"
     },
     "output_type": "display_data"
    }
   ],
   "source": [
    "stacked_barplot(data, \"sex\", \"salary\")"
   ]
  },
  {
   "cell_type": "code",
   "execution_count": 32,
   "id": "ede6b869",
   "metadata": {},
   "outputs": [
    {
     "data": {
      "image/png": "[encoded data removed]",
      "text/plain": [
       "<Figure size 1512x360 with 1 Axes>"
      ]
     },
     "metadata": {
      "needs_background": "light"
     },
     "output_type": "display_data"
    }
   ],
   "source": [
    "stacked_barplot(data, \"education\", \"salary\")"
   ]
  },
  {
   "cell_type": "code",
   "execution_count": 33,
   "id": "0d216ee1",
   "metadata": {},
   "outputs": [
    {
     "data": {
      "image/png": "[encoded data removed]",
      "text/plain": [
       "<Figure size 1440x360 with 1 Axes>"
      ]
     },
     "metadata": {
      "needs_background": "light"
     },
     "output_type": "display_data"
    }
   ],
   "source": [
    "stacked_barplot(data, \"occupation\", \"salary\")"
   ]
  },
  {
   "cell_type": "code",
   "execution_count": 34,
   "id": "075af914",
   "metadata": {},
   "outputs": [
    {
     "data": {
      "image/png": "[encoded data removed]",
      "text/plain": [
       "<Figure size 720x360 with 1 Axes>"
      ]
     },
     "metadata": {
      "needs_background": "light"
     },
     "output_type": "display_data"
    }
   ],
   "source": [
    "stacked_barplot(data, \"race\", \"salary\")"
   ]
  },
  {
   "cell_type": "code",
   "execution_count": 35,
   "id": "2685fa03",
   "metadata": {},
   "outputs": [
    {
     "data": {
      "image/png": "[encoded data removed]",
      "text/plain": [
       "<Figure size 1008x360 with 1 Axes>"
      ]
     },
     "metadata": {
      "needs_background": "light"
     },
     "output_type": "display_data"
    }
   ],
   "source": [
    "stacked_barplot(data, \"workclass\", \"salary\")"
   ]
  },
  {
   "cell_type": "code",
   "execution_count": 36,
   "id": "95313cfd",
   "metadata": {},
   "outputs": [
    {
     "data": {
      "image/png": "[encoded data removed]",
      "text/plain": [
       "<Figure size 576x360 with 1 Axes>"
      ]
     },
     "metadata": {
      "needs_background": "light"
     },
     "output_type": "display_data"
    }
   ],
   "source": [
    "stacked_barplot(data, \"marital_status\", \"salary\")"
   ]
  },
  {
   "cell_type": "code",
   "execution_count": 37,
   "id": "9d58c08f",
   "metadata": {},
   "outputs": [
    {
     "data": {
      "text/plain": [
       "Index(['age', 'workclass', 'fnlwgt', 'education', 'education_no_of_years',\n",
       "       'marital_status', 'occupation', 'race', 'sex', 'capital_gain',\n",
       "       'capital_loss', 'working_hours_per_week', 'native_country', 'salary'],\n",
       "      dtype='object')"
      ]
     },
     "execution_count": 37,
     "metadata": {},
     "output_type": "execute_result"
    }
   ],
   "source": [
    "data.columns"
   ]
  },
  {
   "cell_type": "code",
   "execution_count": 38,
   "id": "324b9483",
   "metadata": {},
   "outputs": [],
   "source": [
    "data.drop([\"fnlwgt\", \"capital_gain\", \"capital_loss\"], axis=1, inplace=True)"
   ]
  },
  {
   "cell_type": "code",
   "execution_count": 39,
   "id": "625dba06",
   "metadata": {
    "id": "A8b4w_FX9WLj"
   },
   "outputs": [],
   "source": [
    "numerical_col = data.select_dtypes(include=np.number).columns.tolist()"
   ]
  },
  {
   "cell_type": "code",
   "execution_count": 40,
   "id": "68764ea3",
   "metadata": {},
   "outputs": [],
   "source": [
    "# Encoding >50K as 1 and <=50K as 0\n",
    "data[\"salary\"] = data[\"salary\"].apply(lambda x: 1 if x == \" >50K\" else 0)"
   ]
  },
  {
   "cell_type": "markdown",
   "id": "d36923c6",
   "metadata": {},
   "source": [
    "**Creating training and test sets.**"
   ]
  },
  {
   "cell_type": "code",
   "execution_count": 41,
   "id": "fbbf168a",
   "metadata": {},
   "outputs": [],
   "source": [
    "# defining a function to compute different metrics to check performance of a classification model built using statsmodels\n",
    "def model_performance_classification_sklearn(model, predictors, target):\n",
    "    # predicting using the independent variables\n",
    "    pred = model.predict(predictors)\n",
    "\n",
    "    acc = accuracy_score(target, pred)  # to compute Accuracy\n",
    "    recall = recall_score(target, pred)  # to compute Recall\n",
    "    precision = precision_score(target, pred)  # to compute Precision\n",
    "    f1 = f1_score(target, pred)  # to compute F1-score\n",
    "\n",
    "    # creating a dataframe of metrics\n",
    "    df_perf = pd.DataFrame({\"Accuracy\": acc, \"Recall\": recall, \"Precision\": precision, \"F1\": f1}, index=[0],)\n",
    "\n",
    "    return df_perf"
   ]
  },
  {
   "cell_type": "markdown",
   "id": "5568c024",
   "metadata": {
    "tags": []
   },
   "source": [
    "### Logistic Regression"
   ]
  },
  {
   "cell_type": "code",
   "execution_count": 42,
   "id": "8b17ea24",
   "metadata": {},
   "outputs": [],
   "source": [
    "X = data.drop([\"salary\", 'education'], axis=1)\n",
    "Y = data[\"salary\"]\n",
    "\n",
    "X = pd.get_dummies(X, drop_first=True)\n",
    "\n",
    "# Splitting data in train and test sets\n",
    "X_train, X_test, y_train, y_test = train_test_split(X, Y, test_size=0.20, random_state=43234, stratify=Y)"
   ]
  },
  {
   "cell_type": "code",
   "execution_count": 43,
   "id": "62d7eb50-8984-45af-b9de-e35bb0df7603",
   "metadata": {},
   "outputs": [
    {
     "data": {
      "text/html": [
       "<div>\n",
       "<style scoped>\n",
       "    .dataframe tbody tr th:only-of-type {\n",
       "        vertical-align: middle;\n",
       "    }\n",
       "\n",
       "    .dataframe tbody tr th {\n",
       "        vertical-align: top;\n",
       "    }\n",
       "\n",
       "    .dataframe thead th {\n",
       "        text-align: right;\n",
       "    }\n",
       "</style>\n",
       "<table border=\"1\" class=\"dataframe\">\n",
       "  <thead>\n",
       "    <tr style=\"text-align: right;\">\n",
       "      <th></th>\n",
       "      <th>age</th>\n",
       "      <th>education_no_of_years</th>\n",
       "      <th>working_hours_per_week</th>\n",
       "      <th>workclass_ Local-gov</th>\n",
       "      <th>workclass_ Never-worked</th>\n",
       "      <th>workclass_ Private</th>\n",
       "      <th>workclass_ Self-emp-inc</th>\n",
       "      <th>workclass_ Self-emp-not-inc</th>\n",
       "      <th>workclass_ State-gov</th>\n",
       "      <th>workclass_ Without-pay</th>\n",
       "      <th>workclass_Unknown</th>\n",
       "      <th>marital_status_married</th>\n",
       "      <th>marital_status_not_married</th>\n",
       "      <th>occupation_ Armed-Forces</th>\n",
       "      <th>occupation_ Craft-repair</th>\n",
       "      <th>occupation_ Exec-managerial</th>\n",
       "      <th>occupation_ Farming-fishing</th>\n",
       "      <th>occupation_ Handlers-cleaners</th>\n",
       "      <th>occupation_ Machine-op-inspct</th>\n",
       "      <th>occupation_ Other-service</th>\n",
       "      <th>occupation_ Priv-house-serv</th>\n",
       "      <th>occupation_ Prof-specialty</th>\n",
       "      <th>occupation_ Protective-serv</th>\n",
       "      <th>occupation_ Sales</th>\n",
       "      <th>occupation_ Tech-support</th>\n",
       "      <th>occupation_ Transport-moving</th>\n",
       "      <th>occupation_Unknown</th>\n",
       "      <th>race_ Asian-Pac-Islander</th>\n",
       "      <th>race_ Black</th>\n",
       "      <th>race_ Other</th>\n",
       "      <th>race_ White</th>\n",
       "      <th>sex_ Male</th>\n",
       "      <th>native_country_europe</th>\n",
       "      <th>native_country_north_america</th>\n",
       "      <th>native_country_other</th>\n",
       "      <th>native_country_south_america</th>\n",
       "    </tr>\n",
       "  </thead>\n",
       "  <tbody>\n",
       "    <tr>\n",
       "      <th>0</th>\n",
       "      <td>39</td>\n",
       "      <td>13</td>\n",
       "      <td>40</td>\n",
       "      <td>0</td>\n",
       "      <td>0</td>\n",
       "      <td>0</td>\n",
       "      <td>0</td>\n",
       "      <td>0</td>\n",
       "      <td>1</td>\n",
       "      <td>0</td>\n",
       "      <td>0</td>\n",
       "      <td>0</td>\n",
       "      <td>0</td>\n",
       "      <td>0</td>\n",
       "      <td>0</td>\n",
       "      <td>0</td>\n",
       "      <td>0</td>\n",
       "      <td>0</td>\n",
       "      <td>0</td>\n",
       "      <td>0</td>\n",
       "      <td>0</td>\n",
       "      <td>0</td>\n",
       "      <td>0</td>\n",
       "      <td>0</td>\n",
       "      <td>0</td>\n",
       "      <td>0</td>\n",
       "      <td>0</td>\n",
       "      <td>0</td>\n",
       "      <td>0</td>\n",
       "      <td>0</td>\n",
       "      <td>1</td>\n",
       "      <td>1</td>\n",
       "      <td>0</td>\n",
       "      <td>1</td>\n",
       "      <td>0</td>\n",
       "      <td>0</td>\n",
       "    </tr>\n",
       "    <tr>\n",
       "      <th>1</th>\n",
       "      <td>50</td>\n",
       "      <td>13</td>\n",
       "      <td>13</td>\n",
       "      <td>0</td>\n",
       "      <td>0</td>\n",
       "      <td>0</td>\n",
       "      <td>0</td>\n",
       "      <td>1</td>\n",
       "      <td>0</td>\n",
       "      <td>0</td>\n",
       "      <td>0</td>\n",
       "      <td>1</td>\n",
       "      <td>0</td>\n",
       "      <td>0</td>\n",
       "      <td>0</td>\n",
       "      <td>1</td>\n",
       "      <td>0</td>\n",
       "      <td>0</td>\n",
       "      <td>0</td>\n",
       "      <td>0</td>\n",
       "      <td>0</td>\n",
       "      <td>0</td>\n",
       "      <td>0</td>\n",
       "      <td>0</td>\n",
       "      <td>0</td>\n",
       "      <td>0</td>\n",
       "      <td>0</td>\n",
       "      <td>0</td>\n",
       "      <td>0</td>\n",
       "      <td>0</td>\n",
       "      <td>1</td>\n",
       "      <td>1</td>\n",
       "      <td>0</td>\n",
       "      <td>1</td>\n",
       "      <td>0</td>\n",
       "      <td>0</td>\n",
       "    </tr>\n",
       "    <tr>\n",
       "      <th>2</th>\n",
       "      <td>38</td>\n",
       "      <td>9</td>\n",
       "      <td>40</td>\n",
       "      <td>0</td>\n",
       "      <td>0</td>\n",
       "      <td>1</td>\n",
       "      <td>0</td>\n",
       "      <td>0</td>\n",
       "      <td>0</td>\n",
       "      <td>0</td>\n",
       "      <td>0</td>\n",
       "      <td>0</td>\n",
       "      <td>1</td>\n",
       "      <td>0</td>\n",
       "      <td>0</td>\n",
       "      <td>0</td>\n",
       "      <td>0</td>\n",
       "      <td>1</td>\n",
       "      <td>0</td>\n",
       "      <td>0</td>\n",
       "      <td>0</td>\n",
       "      <td>0</td>\n",
       "      <td>0</td>\n",
       "      <td>0</td>\n",
       "      <td>0</td>\n",
       "      <td>0</td>\n",
       "      <td>0</td>\n",
       "      <td>0</td>\n",
       "      <td>0</td>\n",
       "      <td>0</td>\n",
       "      <td>1</td>\n",
       "      <td>1</td>\n",
       "      <td>0</td>\n",
       "      <td>1</td>\n",
       "      <td>0</td>\n",
       "      <td>0</td>\n",
       "    </tr>\n",
       "    <tr>\n",
       "      <th>3</th>\n",
       "      <td>53</td>\n",
       "      <td>7</td>\n",
       "      <td>40</td>\n",
       "      <td>0</td>\n",
       "      <td>0</td>\n",
       "      <td>1</td>\n",
       "      <td>0</td>\n",
       "      <td>0</td>\n",
       "      <td>0</td>\n",
       "      <td>0</td>\n",
       "      <td>0</td>\n",
       "      <td>1</td>\n",
       "      <td>0</td>\n",
       "      <td>0</td>\n",
       "      <td>0</td>\n",
       "      <td>0</td>\n",
       "      <td>0</td>\n",
       "      <td>1</td>\n",
       "      <td>0</td>\n",
       "      <td>0</td>\n",
       "      <td>0</td>\n",
       "      <td>0</td>\n",
       "      <td>0</td>\n",
       "      <td>0</td>\n",
       "      <td>0</td>\n",
       "      <td>0</td>\n",
       "      <td>0</td>\n",
       "      <td>0</td>\n",
       "      <td>1</td>\n",
       "      <td>0</td>\n",
       "      <td>0</td>\n",
       "      <td>1</td>\n",
       "      <td>0</td>\n",
       "      <td>1</td>\n",
       "      <td>0</td>\n",
       "      <td>0</td>\n",
       "    </tr>\n",
       "    <tr>\n",
       "      <th>4</th>\n",
       "      <td>28</td>\n",
       "      <td>13</td>\n",
       "      <td>40</td>\n",
       "      <td>0</td>\n",
       "      <td>0</td>\n",
       "      <td>1</td>\n",
       "      <td>0</td>\n",
       "      <td>0</td>\n",
       "      <td>0</td>\n",
       "      <td>0</td>\n",
       "      <td>0</td>\n",
       "      <td>1</td>\n",
       "      <td>0</td>\n",
       "      <td>0</td>\n",
       "      <td>0</td>\n",
       "      <td>0</td>\n",
       "      <td>0</td>\n",
       "      <td>0</td>\n",
       "      <td>0</td>\n",
       "      <td>0</td>\n",
       "      <td>0</td>\n",
       "      <td>1</td>\n",
       "      <td>0</td>\n",
       "      <td>0</td>\n",
       "      <td>0</td>\n",
       "      <td>0</td>\n",
       "      <td>0</td>\n",
       "      <td>0</td>\n",
       "      <td>1</td>\n",
       "      <td>0</td>\n",
       "      <td>0</td>\n",
       "      <td>0</td>\n",
       "      <td>0</td>\n",
       "      <td>1</td>\n",
       "      <td>0</td>\n",
       "      <td>0</td>\n",
       "    </tr>\n",
       "  </tbody>\n",
       "</table>\n",
       "</div>"
      ],
      "text/plain": [
       "   age  education_no_of_years  working_hours_per_week  workclass_ Local-gov  \\\n",
       "0   39                     13                      40                     0   \n",
       "1   50                     13                      13                     0   \n",
       "2   38                      9                      40                     0   \n",
       "3   53                      7                      40                     0   \n",
       "4   28                     13                      40                     0   \n",
       "\n",
       "   workclass_ Never-worked  workclass_ Private  workclass_ Self-emp-inc  \\\n",
       "0                        0                   0                        0   \n",
       "1                        0                   0                        0   \n",
       "2                        0                   1                        0   \n",
       "3                        0                   1                        0   \n",
       "4                        0                   1                        0   \n",
       "\n",
       "   workclass_ Self-emp-not-inc  workclass_ State-gov  workclass_ Without-pay  \\\n",
       "0                            0                     1                       0   \n",
       "1                            1                     0                       0   \n",
       "2                            0                     0                       0   \n",
       "3                            0                     0                       0   \n",
       "4                            0                     0                       0   \n",
       "\n",
       "   workclass_Unknown  marital_status_married  marital_status_not_married  \\\n",
       "0                  0                       0                           0   \n",
       "1                  0                       1                           0   \n",
       "2                  0                       0                           1   \n",
       "3                  0                       1                           0   \n",
       "4                  0                       1                           0   \n",
       "\n",
       "   occupation_ Armed-Forces  occupation_ Craft-repair  \\\n",
       "0                         0                         0   \n",
       "1                         0                         0   \n",
       "2                         0                         0   \n",
       "3                         0                         0   \n",
       "4                         0                         0   \n",
       "\n",
       "   occupation_ Exec-managerial  occupation_ Farming-fishing  \\\n",
       "0                            0                            0   \n",
       "1                            1                            0   \n",
       "2                            0                            0   \n",
       "3                            0                            0   \n",
       "4                            0                            0   \n",
       "\n",
       "   occupation_ Handlers-cleaners  occupation_ Machine-op-inspct  \\\n",
       "0                              0                              0   \n",
       "1                              0                              0   \n",
       "2                              1                              0   \n",
       "3                              1                              0   \n",
       "4                              0                              0   \n",
       "\n",
       "   occupation_ Other-service  occupation_ Priv-house-serv  \\\n",
       "0                          0                            0   \n",
       "1                          0                            0   \n",
       "2                          0                            0   \n",
       "3                          0                            0   \n",
       "4                          0                            0   \n",
       "\n",
       "   occupation_ Prof-specialty  occupation_ Protective-serv  occupation_ Sales  \\\n",
       "0                           0                            0                  0   \n",
       "1                           0                            0                  0   \n",
       "2                           0                            0                  0   \n",
       "3                           0                            0                  0   \n",
       "4                           1                            0                  0   \n",
       "\n",
       "   occupation_ Tech-support  occupation_ Transport-moving  occupation_Unknown  \\\n",
       "0                         0                             0                   0   \n",
       "1                         0                             0                   0   \n",
       "2                         0                             0                   0   \n",
       "3                         0                             0                   0   \n",
       "4                         0                             0                   0   \n",
       "\n",
       "   race_ Asian-Pac-Islander  race_ Black  race_ Other  race_ White  sex_ Male  \\\n",
       "0                         0            0            0            1          1   \n",
       "1                         0            0            0            1          1   \n",
       "2                         0            0            0            1          1   \n",
       "3                         0            1            0            0          1   \n",
       "4                         0            1            0            0          0   \n",
       "\n",
       "   native_country_europe  native_country_north_america  native_country_other  \\\n",
       "0                      0                             1                     0   \n",
       "1                      0                             1                     0   \n",
       "2                      0                             1                     0   \n",
       "3                      0                             1                     0   \n",
       "4                      0                             1                     0   \n",
       "\n",
       "   native_country_south_america  \n",
       "0                             0  \n",
       "1                             0  \n",
       "2                             0  \n",
       "3                             0  \n",
       "4                             0  "
      ]
     },
     "execution_count": 43,
     "metadata": {},
     "output_type": "execute_result"
    }
   ],
   "source": [
    "X.head()"
   ]
  },
  {
   "cell_type": "code",
   "execution_count": 44,
   "id": "7ed3652a",
   "metadata": {},
   "outputs": [
    {
     "data": {
      "text/html": [
       "<div>\n",
       "<style scoped>\n",
       "    .dataframe tbody tr th:only-of-type {\n",
       "        vertical-align: middle;\n",
       "    }\n",
       "\n",
       "    .dataframe tbody tr th {\n",
       "        vertical-align: top;\n",
       "    }\n",
       "\n",
       "    .dataframe thead th {\n",
       "        text-align: right;\n",
       "    }\n",
       "</style>\n",
       "<table border=\"1\" class=\"dataframe\">\n",
       "  <thead>\n",
       "    <tr style=\"text-align: right;\">\n",
       "      <th></th>\n",
       "      <th>Accuracy</th>\n",
       "      <th>Recall</th>\n",
       "      <th>Precision</th>\n",
       "      <th>F1</th>\n",
       "    </tr>\n",
       "  </thead>\n",
       "  <tbody>\n",
       "    <tr>\n",
       "      <th>0</th>\n",
       "      <td>0.834114</td>\n",
       "      <td>0.552048</td>\n",
       "      <td>0.69622</td>\n",
       "      <td>0.615809</td>\n",
       "    </tr>\n",
       "  </tbody>\n",
       "</table>\n",
       "</div>"
      ],
      "text/plain": [
       "   Accuracy    Recall  Precision        F1\n",
       "0  0.834114  0.552048    0.69622  0.615809"
      ]
     },
     "execution_count": 44,
     "metadata": {},
     "output_type": "execute_result"
    }
   ],
   "source": [
    "# Logistic Regression\n",
    "logit = LogisticRegression()\n",
    "logit.fit(X_train, y_train)  # train the model\n",
    "\n",
    "logit_train_perf = model_performance_classification_sklearn(logit, X_train, y_train)\n",
    "logit_train_perf"
   ]
  },
  {
   "cell_type": "code",
   "execution_count": 45,
   "id": "b7fde75a",
   "metadata": {},
   "outputs": [
    {
     "data": {
      "text/html": [
       "<div>\n",
       "<style scoped>\n",
       "    .dataframe tbody tr th:only-of-type {\n",
       "        vertical-align: middle;\n",
       "    }\n",
       "\n",
       "    .dataframe tbody tr th {\n",
       "        vertical-align: top;\n",
       "    }\n",
       "\n",
       "    .dataframe thead th {\n",
       "        text-align: right;\n",
       "    }\n",
       "</style>\n",
       "<table border=\"1\" class=\"dataframe\">\n",
       "  <thead>\n",
       "    <tr style=\"text-align: right;\">\n",
       "      <th></th>\n",
       "      <th>Accuracy</th>\n",
       "      <th>Recall</th>\n",
       "      <th>Precision</th>\n",
       "      <th>F1</th>\n",
       "    </tr>\n",
       "  </thead>\n",
       "  <tbody>\n",
       "    <tr>\n",
       "      <th>0</th>\n",
       "      <td>0.831568</td>\n",
       "      <td>0.547832</td>\n",
       "      <td>0.688853</td>\n",
       "      <td>0.610302</td>\n",
       "    </tr>\n",
       "  </tbody>\n",
       "</table>\n",
       "</div>"
      ],
      "text/plain": [
       "   Accuracy    Recall  Precision        F1\n",
       "0  0.831568  0.547832   0.688853  0.610302"
      ]
     },
     "execution_count": 45,
     "metadata": {},
     "output_type": "execute_result"
    }
   ],
   "source": [
    "logit_test_perf = model_performance_classification_sklearn(logit, X_test, y_test)\n",
    "logit_test_perf"
   ]
  },
  {
   "cell_type": "code",
   "execution_count": 46,
   "id": "73daa6d8",
   "metadata": {},
   "outputs": [
    {
     "data": {
      "text/html": [
       "<div>\n",
       "<style scoped>\n",
       "    .dataframe tbody tr th:only-of-type {\n",
       "        vertical-align: middle;\n",
       "    }\n",
       "\n",
       "    .dataframe tbody tr th {\n",
       "        vertical-align: top;\n",
       "    }\n",
       "\n",
       "    .dataframe thead th {\n",
       "        text-align: right;\n",
       "    }\n",
       "</style>\n",
       "<table border=\"1\" class=\"dataframe\">\n",
       "  <thead>\n",
       "    <tr style=\"text-align: right;\">\n",
       "      <th></th>\n",
       "      <th>Feature_Names</th>\n",
       "      <th>Coefficient</th>\n",
       "      <th>odds</th>\n",
       "      <th>percent_change_odds</th>\n",
       "    </tr>\n",
       "  </thead>\n",
       "  <tbody>\n",
       "    <tr>\n",
       "      <th>0</th>\n",
       "      <td>Intercept</td>\n",
       "      <td>-5.941393</td>\n",
       "      <td>0.002628</td>\n",
       "      <td>-99.737164</td>\n",
       "    </tr>\n",
       "    <tr>\n",
       "      <th>1</th>\n",
       "      <td>age</td>\n",
       "      <td>0.029137</td>\n",
       "      <td>1.029566</td>\n",
       "      <td>2.956600</td>\n",
       "    </tr>\n",
       "    <tr>\n",
       "      <th>2</th>\n",
       "      <td>education_no_of_years</td>\n",
       "      <td>0.293620</td>\n",
       "      <td>1.341274</td>\n",
       "      <td>34.127431</td>\n",
       "    </tr>\n",
       "    <tr>\n",
       "      <th>3</th>\n",
       "      <td>working_hours_per_week</td>\n",
       "      <td>0.029742</td>\n",
       "      <td>1.030189</td>\n",
       "      <td>3.018917</td>\n",
       "    </tr>\n",
       "    <tr>\n",
       "      <th>4</th>\n",
       "      <td>workclass_ Local-gov</td>\n",
       "      <td>-0.988115</td>\n",
       "      <td>0.372278</td>\n",
       "      <td>-62.772231</td>\n",
       "    </tr>\n",
       "    <tr>\n",
       "      <th>5</th>\n",
       "      <td>workclass_ Never-worked</td>\n",
       "      <td>-0.012242</td>\n",
       "      <td>0.987833</td>\n",
       "      <td>-1.216714</td>\n",
       "    </tr>\n",
       "    <tr>\n",
       "      <th>6</th>\n",
       "      <td>workclass_ Private</td>\n",
       "      <td>-0.782343</td>\n",
       "      <td>0.457333</td>\n",
       "      <td>-54.266685</td>\n",
       "    </tr>\n",
       "    <tr>\n",
       "      <th>7</th>\n",
       "      <td>workclass_ Self-emp-inc</td>\n",
       "      <td>-0.553277</td>\n",
       "      <td>0.575062</td>\n",
       "      <td>-42.493761</td>\n",
       "    </tr>\n",
       "    <tr>\n",
       "      <th>8</th>\n",
       "      <td>workclass_ Self-emp-not-inc</td>\n",
       "      <td>-1.126786</td>\n",
       "      <td>0.324073</td>\n",
       "      <td>-67.592686</td>\n",
       "    </tr>\n",
       "    <tr>\n",
       "      <th>9</th>\n",
       "      <td>workclass_ State-gov</td>\n",
       "      <td>-1.189171</td>\n",
       "      <td>0.304474</td>\n",
       "      <td>-69.552630</td>\n",
       "    </tr>\n",
       "    <tr>\n",
       "      <th>10</th>\n",
       "      <td>workclass_ Without-pay</td>\n",
       "      <td>-0.120308</td>\n",
       "      <td>0.886648</td>\n",
       "      <td>-11.335234</td>\n",
       "    </tr>\n",
       "    <tr>\n",
       "      <th>11</th>\n",
       "      <td>workclass_Unknown</td>\n",
       "      <td>-0.751718</td>\n",
       "      <td>0.471556</td>\n",
       "      <td>-52.844421</td>\n",
       "    </tr>\n",
       "    <tr>\n",
       "      <th>12</th>\n",
       "      <td>marital_status_married</td>\n",
       "      <td>2.549805</td>\n",
       "      <td>12.804607</td>\n",
       "      <td>1180.460726</td>\n",
       "    </tr>\n",
       "    <tr>\n",
       "      <th>13</th>\n",
       "      <td>marital_status_not_married</td>\n",
       "      <td>0.442322</td>\n",
       "      <td>1.556317</td>\n",
       "      <td>55.631739</td>\n",
       "    </tr>\n",
       "    <tr>\n",
       "      <th>14</th>\n",
       "      <td>occupation_ Armed-Forces</td>\n",
       "      <td>-0.028609</td>\n",
       "      <td>0.971796</td>\n",
       "      <td>-2.820364</td>\n",
       "    </tr>\n",
       "    <tr>\n",
       "      <th>15</th>\n",
       "      <td>occupation_ Craft-repair</td>\n",
       "      <td>-0.182663</td>\n",
       "      <td>0.833049</td>\n",
       "      <td>-16.695086</td>\n",
       "    </tr>\n",
       "    <tr>\n",
       "      <th>16</th>\n",
       "      <td>occupation_ Exec-managerial</td>\n",
       "      <td>0.643208</td>\n",
       "      <td>1.902575</td>\n",
       "      <td>90.257499</td>\n",
       "    </tr>\n",
       "    <tr>\n",
       "      <th>17</th>\n",
       "      <td>occupation_ Farming-fishing</td>\n",
       "      <td>-1.128285</td>\n",
       "      <td>0.323588</td>\n",
       "      <td>-67.641232</td>\n",
       "    </tr>\n",
       "    <tr>\n",
       "      <th>18</th>\n",
       "      <td>occupation_ Handlers-cleaners</td>\n",
       "      <td>-1.035742</td>\n",
       "      <td>0.354963</td>\n",
       "      <td>-64.503719</td>\n",
       "    </tr>\n",
       "    <tr>\n",
       "      <th>19</th>\n",
       "      <td>occupation_ Machine-op-inspct</td>\n",
       "      <td>-0.426186</td>\n",
       "      <td>0.652995</td>\n",
       "      <td>-34.700528</td>\n",
       "    </tr>\n",
       "    <tr>\n",
       "      <th>20</th>\n",
       "      <td>occupation_ Other-service</td>\n",
       "      <td>-1.165502</td>\n",
       "      <td>0.311766</td>\n",
       "      <td>-68.823385</td>\n",
       "    </tr>\n",
       "    <tr>\n",
       "      <th>21</th>\n",
       "      <td>occupation_ Priv-house-serv</td>\n",
       "      <td>-0.256120</td>\n",
       "      <td>0.774049</td>\n",
       "      <td>-22.595073</td>\n",
       "    </tr>\n",
       "    <tr>\n",
       "      <th>22</th>\n",
       "      <td>occupation_ Prof-specialty</td>\n",
       "      <td>0.489172</td>\n",
       "      <td>1.630965</td>\n",
       "      <td>63.096521</td>\n",
       "    </tr>\n",
       "    <tr>\n",
       "      <th>23</th>\n",
       "      <td>occupation_ Protective-serv</td>\n",
       "      <td>0.437130</td>\n",
       "      <td>1.548257</td>\n",
       "      <td>54.825740</td>\n",
       "    </tr>\n",
       "    <tr>\n",
       "      <th>24</th>\n",
       "      <td>occupation_ Sales</td>\n",
       "      <td>0.047916</td>\n",
       "      <td>1.049083</td>\n",
       "      <td>4.908302</td>\n",
       "    </tr>\n",
       "    <tr>\n",
       "      <th>25</th>\n",
       "      <td>occupation_ Tech-support</td>\n",
       "      <td>0.509212</td>\n",
       "      <td>1.663979</td>\n",
       "      <td>66.397923</td>\n",
       "    </tr>\n",
       "    <tr>\n",
       "      <th>26</th>\n",
       "      <td>occupation_ Transport-moving</td>\n",
       "      <td>-0.273595</td>\n",
       "      <td>0.760640</td>\n",
       "      <td>-23.935990</td>\n",
       "    </tr>\n",
       "    <tr>\n",
       "      <th>27</th>\n",
       "      <td>occupation_Unknown</td>\n",
       "      <td>-0.763960</td>\n",
       "      <td>0.465818</td>\n",
       "      <td>-53.418169</td>\n",
       "    </tr>\n",
       "    <tr>\n",
       "      <th>28</th>\n",
       "      <td>race_ Asian-Pac-Islander</td>\n",
       "      <td>-1.754036</td>\n",
       "      <td>0.173074</td>\n",
       "      <td>-82.692598</td>\n",
       "    </tr>\n",
       "    <tr>\n",
       "      <th>29</th>\n",
       "      <td>race_ Black</td>\n",
       "      <td>-1.103002</td>\n",
       "      <td>0.331873</td>\n",
       "      <td>-66.812683</td>\n",
       "    </tr>\n",
       "    <tr>\n",
       "      <th>30</th>\n",
       "      <td>race_ Other</td>\n",
       "      <td>-0.867974</td>\n",
       "      <td>0.419801</td>\n",
       "      <td>-58.019867</td>\n",
       "    </tr>\n",
       "    <tr>\n",
       "      <th>31</th>\n",
       "      <td>race_ White</td>\n",
       "      <td>-0.825481</td>\n",
       "      <td>0.438024</td>\n",
       "      <td>-56.197587</td>\n",
       "    </tr>\n",
       "    <tr>\n",
       "      <th>32</th>\n",
       "      <td>sex_ Male</td>\n",
       "      <td>0.147081</td>\n",
       "      <td>1.158447</td>\n",
       "      <td>15.844738</td>\n",
       "    </tr>\n",
       "    <tr>\n",
       "      <th>33</th>\n",
       "      <td>native_country_europe</td>\n",
       "      <td>-0.931585</td>\n",
       "      <td>0.393929</td>\n",
       "      <td>-60.607112</td>\n",
       "    </tr>\n",
       "    <tr>\n",
       "      <th>34</th>\n",
       "      <td>native_country_north_america</td>\n",
       "      <td>-0.910021</td>\n",
       "      <td>0.402516</td>\n",
       "      <td>-59.748420</td>\n",
       "    </tr>\n",
       "    <tr>\n",
       "      <th>35</th>\n",
       "      <td>native_country_other</td>\n",
       "      <td>-1.384098</td>\n",
       "      <td>0.250550</td>\n",
       "      <td>-74.945025</td>\n",
       "    </tr>\n",
       "    <tr>\n",
       "      <th>36</th>\n",
       "      <td>native_country_south_america</td>\n",
       "      <td>-0.578873</td>\n",
       "      <td>0.560530</td>\n",
       "      <td>-43.947026</td>\n",
       "    </tr>\n",
       "  </tbody>\n",
       "</table>\n",
       "</div>"
      ],
      "text/plain": [
       "                    Feature_Names  Coefficient       odds  percent_change_odds\n",
       "0                       Intercept    -5.941393   0.002628           -99.737164\n",
       "1                             age     0.029137   1.029566             2.956600\n",
       "2           education_no_of_years     0.293620   1.341274            34.127431\n",
       "3          working_hours_per_week     0.029742   1.030189             3.018917\n",
       "4            workclass_ Local-gov    -0.988115   0.372278           -62.772231\n",
       "5         workclass_ Never-worked    -0.012242   0.987833            -1.216714\n",
       "6              workclass_ Private    -0.782343   0.457333           -54.266685\n",
       "7         workclass_ Self-emp-inc    -0.553277   0.575062           -42.493761\n",
       "8     workclass_ Self-emp-not-inc    -1.126786   0.324073           -67.592686\n",
       "9            workclass_ State-gov    -1.189171   0.304474           -69.552630\n",
       "10         workclass_ Without-pay    -0.120308   0.886648           -11.335234\n",
       "11              workclass_Unknown    -0.751718   0.471556           -52.844421\n",
       "12         marital_status_married     2.549805  12.804607          1180.460726\n",
       "13     marital_status_not_married     0.442322   1.556317            55.631739\n",
       "14       occupation_ Armed-Forces    -0.028609   0.971796            -2.820364\n",
       "15       occupation_ Craft-repair    -0.182663   0.833049           -16.695086\n",
       "16    occupation_ Exec-managerial     0.643208   1.902575            90.257499\n",
       "17    occupation_ Farming-fishing    -1.128285   0.323588           -67.641232\n",
       "18  occupation_ Handlers-cleaners    -1.035742   0.354963           -64.503719\n",
       "19  occupation_ Machine-op-inspct    -0.426186   0.652995           -34.700528\n",
       "20      occupation_ Other-service    -1.165502   0.311766           -68.823385\n",
       "21    occupation_ Priv-house-serv    -0.256120   0.774049           -22.595073\n",
       "22     occupation_ Prof-specialty     0.489172   1.630965            63.096521\n",
       "23    occupation_ Protective-serv     0.437130   1.548257            54.825740\n",
       "24              occupation_ Sales     0.047916   1.049083             4.908302\n",
       "25       occupation_ Tech-support     0.509212   1.663979            66.397923\n",
       "26   occupation_ Transport-moving    -0.273595   0.760640           -23.935990\n",
       "27             occupation_Unknown    -0.763960   0.465818           -53.418169\n",
       "28       race_ Asian-Pac-Islander    -1.754036   0.173074           -82.692598\n",
       "29                    race_ Black    -1.103002   0.331873           -66.812683\n",
       "30                    race_ Other    -0.867974   0.419801           -58.019867\n",
       "31                    race_ White    -0.825481   0.438024           -56.197587\n",
       "32                      sex_ Male     0.147081   1.158447            15.844738\n",
       "33          native_country_europe    -0.931585   0.393929           -60.607112\n",
       "34   native_country_north_america    -0.910021   0.402516           -59.748420\n",
       "35           native_country_other    -1.384098   0.250550           -74.945025\n",
       "36   native_country_south_america    -0.578873   0.560530           -43.947026"
      ]
     },
     "execution_count": 46,
     "metadata": {},
     "output_type": "execute_result"
    }
   ],
   "source": [
    "# putting the model coefficients, their odds ratios and percent_change_odds in a single dataframe\n",
    "features_names = [\"Intercept\"] + list(logit.feature_names_in_)\n",
    "coef = list(logit.intercept_) + list(*logit.coef_)\n",
    "logit_summary = pd.DataFrame({\"Feature_Names\": features_names, \"Coefficient\": coef})\n",
    "logit_summary[\"odds\"] = np.exp(logit_summary[\"Coefficient\"])\n",
    "logit_summary[\"percent_change_odds\"] = (np.exp(logit_summary[\"Coefficient\"]) - 1) * 100\n",
    "logit_summary"
   ]
  },
  {
   "cell_type": "markdown",
   "id": "74febde1-6970-49ef-ab5f-135bf7e8dece",
   "metadata": {},
   "source": [
    "### Coefficient interpretations\n",
    "\n",
    "For continuous features\n",
    "\n",
    "* `age`: Holding all other features constant a 1 unit change in Age will increase the odds of a person having salary >50k by 1.03 times or a 2.96% increase in odds of having salary >50K.\n",
    "* `working_hours_per_week`: Holding all other features constant a 1 unit change in the working_hours_per_week will decrease the odds of a person having salary <=50k by 0.93 times or a decrease of 6.6% decrease in odds of having salary <=50K.\n",
    "\n",
    "For categorical features\n",
    "\n",
    "* The odds of a person whose marital status is married having a salary >50K is 12.8 time more than the person who has never married or 1180.5% higher odds of having salary >50K. Similarly, The odds of a person whose marital status is not_married having a salary >50K is 01.56 times more than the person who has never married or 55.6% more odds of having a salary >50K than the person who has never married. [keeping Never_married category as a reference].\n",
    "\n",
    "\n",
    "`Interpretation for other features can be done similarly.`"
   ]
  },
  {
   "cell_type": "code",
   "execution_count": null,
   "id": "39831bf2-bd91-4766-928c-83b014446060",
   "metadata": {},
   "outputs": [],
   "source": []
  }
 ],
 "metadata": {
  "kernelspec": {
   "display_name": "Python 3 (ipykernel)",
   "language": "python",
   "name": "python3"
  },
  "language_info": {
   "codemirror_mode": {
    "name": "ipython",
    "version": 3
   },
   "file_extension": ".py",
   "mimetype": "text/x-python",
   "name": "python",
   "nbconvert_exporter": "python",
   "pygments_lexer": "ipython3",
   "version": "3.9.12"
  },
  "vscode": {
   "interpreter": {
    "hash": "81e374b3269ecf0079033d8d54c3b8445e57606735e601277613154e83e18b39"
   }
  }
 },
 "nbformat": 4,
 "nbformat_minor": 5
}
